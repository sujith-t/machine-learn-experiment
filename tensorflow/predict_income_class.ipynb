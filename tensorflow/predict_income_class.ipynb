{
 "cells": [
  {
   "cell_type": "code",
   "execution_count": 28,
   "id": "f4cb7c06-5aaf-4832-90a6-71ee519ce46c",
   "metadata": {},
   "outputs": [],
   "source": [
    "# https://github.com/agupta98/Tensorflow\n",
    "import tensorflow as tf\n",
    "import pandas as pd\n",
    "from sklearn.model_selection import train_test_split\n",
    "from sklearn.metrics import classification_report"
   ]
  },
  {
   "cell_type": "code",
   "execution_count": 2,
   "id": "aaa0ee42-e1f7-4706-805b-970612ccfd27",
   "metadata": {},
   "outputs": [
    {
     "data": {
      "text/html": [
       "<div>\n",
       "<style scoped>\n",
       "    .dataframe tbody tr th:only-of-type {\n",
       "        vertical-align: middle;\n",
       "    }\n",
       "\n",
       "    .dataframe tbody tr th {\n",
       "        vertical-align: top;\n",
       "    }\n",
       "\n",
       "    .dataframe thead th {\n",
       "        text-align: right;\n",
       "    }\n",
       "</style>\n",
       "<table border=\"1\" class=\"dataframe\">\n",
       "  <thead>\n",
       "    <tr style=\"text-align: right;\">\n",
       "      <th></th>\n",
       "      <th>age</th>\n",
       "      <th>workclass</th>\n",
       "      <th>education</th>\n",
       "      <th>education_num</th>\n",
       "      <th>marital_status</th>\n",
       "      <th>occupation</th>\n",
       "      <th>relationship</th>\n",
       "      <th>race</th>\n",
       "      <th>gender</th>\n",
       "      <th>capital_gain</th>\n",
       "      <th>capital_loss</th>\n",
       "      <th>hours_per_week</th>\n",
       "      <th>native_country</th>\n",
       "      <th>income_bracket</th>\n",
       "    </tr>\n",
       "  </thead>\n",
       "  <tbody>\n",
       "    <tr>\n",
       "      <th>0</th>\n",
       "      <td>39</td>\n",
       "      <td>State-gov</td>\n",
       "      <td>Bachelors</td>\n",
       "      <td>13</td>\n",
       "      <td>Never-married</td>\n",
       "      <td>Adm-clerical</td>\n",
       "      <td>Not-in-family</td>\n",
       "      <td>White</td>\n",
       "      <td>Male</td>\n",
       "      <td>2174</td>\n",
       "      <td>0</td>\n",
       "      <td>40</td>\n",
       "      <td>United-States</td>\n",
       "      <td>&lt;=50K</td>\n",
       "    </tr>\n",
       "    <tr>\n",
       "      <th>1</th>\n",
       "      <td>50</td>\n",
       "      <td>Self-emp-not-inc</td>\n",
       "      <td>Bachelors</td>\n",
       "      <td>13</td>\n",
       "      <td>Married-civ-spouse</td>\n",
       "      <td>Exec-managerial</td>\n",
       "      <td>Husband</td>\n",
       "      <td>White</td>\n",
       "      <td>Male</td>\n",
       "      <td>0</td>\n",
       "      <td>0</td>\n",
       "      <td>13</td>\n",
       "      <td>United-States</td>\n",
       "      <td>&lt;=50K</td>\n",
       "    </tr>\n",
       "    <tr>\n",
       "      <th>2</th>\n",
       "      <td>38</td>\n",
       "      <td>Private</td>\n",
       "      <td>HS-grad</td>\n",
       "      <td>9</td>\n",
       "      <td>Divorced</td>\n",
       "      <td>Handlers-cleaners</td>\n",
       "      <td>Not-in-family</td>\n",
       "      <td>White</td>\n",
       "      <td>Male</td>\n",
       "      <td>0</td>\n",
       "      <td>0</td>\n",
       "      <td>40</td>\n",
       "      <td>United-States</td>\n",
       "      <td>&lt;=50K</td>\n",
       "    </tr>\n",
       "    <tr>\n",
       "      <th>3</th>\n",
       "      <td>53</td>\n",
       "      <td>Private</td>\n",
       "      <td>11th</td>\n",
       "      <td>7</td>\n",
       "      <td>Married-civ-spouse</td>\n",
       "      <td>Handlers-cleaners</td>\n",
       "      <td>Husband</td>\n",
       "      <td>Black</td>\n",
       "      <td>Male</td>\n",
       "      <td>0</td>\n",
       "      <td>0</td>\n",
       "      <td>40</td>\n",
       "      <td>United-States</td>\n",
       "      <td>&lt;=50K</td>\n",
       "    </tr>\n",
       "    <tr>\n",
       "      <th>4</th>\n",
       "      <td>28</td>\n",
       "      <td>Private</td>\n",
       "      <td>Bachelors</td>\n",
       "      <td>13</td>\n",
       "      <td>Married-civ-spouse</td>\n",
       "      <td>Prof-specialty</td>\n",
       "      <td>Wife</td>\n",
       "      <td>Black</td>\n",
       "      <td>Female</td>\n",
       "      <td>0</td>\n",
       "      <td>0</td>\n",
       "      <td>40</td>\n",
       "      <td>Cuba</td>\n",
       "      <td>&lt;=50K</td>\n",
       "    </tr>\n",
       "  </tbody>\n",
       "</table>\n",
       "</div>"
      ],
      "text/plain": [
       "   age          workclass   education  education_num       marital_status  \\\n",
       "0   39          State-gov   Bachelors             13        Never-married   \n",
       "1   50   Self-emp-not-inc   Bachelors             13   Married-civ-spouse   \n",
       "2   38            Private     HS-grad              9             Divorced   \n",
       "3   53            Private        11th              7   Married-civ-spouse   \n",
       "4   28            Private   Bachelors             13   Married-civ-spouse   \n",
       "\n",
       "           occupation    relationship    race   gender  capital_gain  \\\n",
       "0        Adm-clerical   Not-in-family   White     Male          2174   \n",
       "1     Exec-managerial         Husband   White     Male             0   \n",
       "2   Handlers-cleaners   Not-in-family   White     Male             0   \n",
       "3   Handlers-cleaners         Husband   Black     Male             0   \n",
       "4      Prof-specialty            Wife   Black   Female             0   \n",
       "\n",
       "   capital_loss  hours_per_week  native_country income_bracket  \n",
       "0             0              40   United-States          <=50K  \n",
       "1             0              13   United-States          <=50K  \n",
       "2             0              40   United-States          <=50K  \n",
       "3             0              40   United-States          <=50K  \n",
       "4             0              40            Cuba          <=50K  "
      ]
     },
     "execution_count": 2,
     "metadata": {},
     "output_type": "execute_result"
    }
   ],
   "source": [
    "# read the data set and display the first 5 records\n",
    "census = pd.read_csv(\"census_data.csv\")\n",
    "census.head(5)"
   ]
  },
  {
   "cell_type": "code",
   "execution_count": 3,
   "id": "3795d531-1b4b-44a7-8152-184d4e1feb92",
   "metadata": {},
   "outputs": [
    {
     "data": {
      "text/plain": [
       "array([' <=50K', ' >50K'], dtype=object)"
      ]
     },
     "execution_count": 3,
     "metadata": {},
     "output_type": "execute_result"
    }
   ],
   "source": [
    "# print the unique values\n",
    "census[\"income_bracket\"].unique()"
   ]
  },
  {
   "cell_type": "code",
   "execution_count": 5,
   "id": "a4ff0387-5a43-4228-960a-a13238282a79",
   "metadata": {},
   "outputs": [
    {
     "data": {
      "text/plain": [
       "0        0\n",
       "1        0\n",
       "2        0\n",
       "3        0\n",
       "4        0\n",
       "        ..\n",
       "32556    0\n",
       "32557    1\n",
       "32558    0\n",
       "32559    0\n",
       "32560    1\n",
       "Name: income_bracket, Length: 32561, dtype: int64"
      ]
     },
     "execution_count": 5,
     "metadata": {},
     "output_type": "execute_result"
    }
   ],
   "source": [
    "# changing label values for income_bracket\n",
    "def label_fix(label):\n",
    "    if label == ' <=50K':\n",
    "        return 0\n",
    "    else:\n",
    "        return 1\n",
    "    \n",
    "census[\"income_bracket\"] = census[\"income_bracket\"].apply(label_fix)\n",
    "census[\"income_bracket\"]"
   ]
  },
  {
   "cell_type": "code",
   "execution_count": 8,
   "id": "fb951716-35f2-4fd3-b278-a839aedb0e47",
   "metadata": {},
   "outputs": [],
   "source": [
    "# split the data for training and testing\n",
    "x_data = census.drop(\"income_bracket\", axis=1)\n",
    "y_label = census[\"income_bracket\"]\n",
    "x_train, x_test, y_train, y_test = train_test_split(x_data, y_label, test_size=0.3, random_state=101)"
   ]
  },
  {
   "cell_type": "code",
   "execution_count": 9,
   "id": "00c8b6ac-bd43-454e-a0ac-b358cb34cffd",
   "metadata": {},
   "outputs": [
    {
     "name": "stdout",
     "output_type": "stream",
     "text": [
      "WARNING:tensorflow:From C:\\Users\\SujithThillymplam\\AppData\\Local\\Temp\\ipykernel_17240\\2086698642.py:2: categorical_column_with_vocabulary_list (from tensorflow.python.feature_column.feature_column_v2) is deprecated and will be removed in a future version.\n",
      "Instructions for updating:\n",
      "Use Keras preprocessing layers instead, either directly or via the `tf.keras.utils.FeatureSpace` utility. Each of `tf.feature_column.*` has a functional equivalent in `tf.keras.layers` for feature preprocessing when training a Keras model.\n",
      "WARNING:tensorflow:From C:\\Users\\SujithThillymplam\\AppData\\Local\\Temp\\ipykernel_17240\\2086698642.py:3: categorical_column_with_hash_bucket (from tensorflow.python.feature_column.feature_column_v2) is deprecated and will be removed in a future version.\n",
      "Instructions for updating:\n",
      "Use Keras preprocessing layers instead, either directly or via the `tf.keras.utils.FeatureSpace` utility. Each of `tf.feature_column.*` has a functional equivalent in `tf.keras.layers` for feature preprocessing when training a Keras model.\n"
     ]
    }
   ],
   "source": [
    "# encoding categorical columns\n",
    "\n",
    "gender = tf.feature_column.categorical_column_with_vocabulary_list(\"gender\", [\"Female\", \"Male\"])\n",
    "occupation = tf.feature_column.categorical_column_with_hash_bucket(\"occupation\", hash_bucket_size=1000)\n",
    "marital_status = tf.feature_column.categorical_column_with_hash_bucket(\"marital_status\", hash_bucket_size=1000)\n",
    "relationship = tf.feature_column.categorical_column_with_hash_bucket(\"relationship\", hash_bucket_size=1000)\n",
    "education = tf.feature_column.categorical_column_with_hash_bucket(\"education\", hash_bucket_size=1000)\n",
    "workclass = tf.feature_column.categorical_column_with_hash_bucket(\"workclass\", hash_bucket_size=1000)\n",
    "native_country = tf.feature_column.categorical_column_with_hash_bucket(\"native_country\", hash_bucket_size=1000)"
   ]
  },
  {
   "cell_type": "code",
   "execution_count": 13,
   "id": "06248ec7-05be-4f24-b705-59d0b6c560de",
   "metadata": {},
   "outputs": [],
   "source": [
    "# preprocessing numeric continuous values\n",
    "\n",
    "age = tf.feature_column.numeric_column(\"age\")\n",
    "education_num = tf.feature_column.numeric_column(\"education_num\")\n",
    "capital_gain = tf.feature_column.numeric_column(\"capital_gain\")\n",
    "capital_loss = tf.feature_column.numeric_column(\"capital_loss\")\n",
    "hours_per_week = tf.feature_column.numeric_column(\"hours_per_week\")"
   ]
  },
  {
   "cell_type": "code",
   "execution_count": 14,
   "id": "74b3c2fa-7095-42fe-84de-84c4b280fbb1",
   "metadata": {},
   "outputs": [],
   "source": [
    "# put all features in a list | creating a vector with features\n",
    "\n",
    "feature_cols = [gender, occupation, marital_status, relationship, education, workclass, native_country, \n",
    "                age, education_num, capital_gain, capital_loss, hours_per_week]"
   ]
  },
  {
   "cell_type": "code",
   "execution_count": 20,
   "id": "40801427-b135-47ff-8aa1-70a9ebf39429",
   "metadata": {},
   "outputs": [],
   "source": [
    "# create the input function\n",
    "\n",
    "input_function = tf.compat.v1.estimator.inputs.pandas_input_fn(x=x_train, y=y_train, batch_size=100, \n",
    "                                                               num_epochs=None, shuffle=True)"
   ]
  },
  {
   "cell_type": "code",
   "execution_count": 22,
   "id": "7720c0fa-d53f-4302-b548-472330dd687f",
   "metadata": {},
   "outputs": [
    {
     "name": "stdout",
     "output_type": "stream",
     "text": [
      "INFO:tensorflow:Using default config.\n",
      "WARNING:tensorflow:Using temporary folder as model directory: C:\\Users\\SUJITH~1\\AppData\\Local\\Temp\\tmpdkc0j2p7\n",
      "INFO:tensorflow:Using config: {'_model_dir': 'C:\\\\Users\\\\SUJITH~1\\\\AppData\\\\Local\\\\Temp\\\\tmpdkc0j2p7', '_tf_random_seed': None, '_save_summary_steps': 100, '_save_checkpoints_steps': None, '_save_checkpoints_secs': 600, '_session_config': allow_soft_placement: true\n",
      "graph_options {\n",
      "  rewrite_options {\n",
      "    meta_optimizer_iterations: ONE\n",
      "  }\n",
      "}\n",
      ", '_keep_checkpoint_max': 5, '_keep_checkpoint_every_n_hours': 10000, '_log_step_count_steps': 100, '_train_distribute': None, '_device_fn': None, '_protocol': None, '_eval_distribute': None, '_experimental_distribute': None, '_experimental_max_worker_delay_secs': None, '_session_creation_timeout_secs': 7200, '_checkpoint_save_graph_def': True, '_service': None, '_cluster_spec': ClusterSpec({}), '_task_type': 'worker', '_task_id': 0, '_global_id_in_cluster': 0, '_master': '', '_evaluation_master': '', '_is_chief': True, '_num_ps_replicas': 0, '_num_worker_replicas': 1}\n",
      "WARNING:tensorflow:From C:\\ProgramData\\Anaconda3\\envs\\tensorflow\\lib\\site-packages\\tensorflow_estimator\\python\\estimator\\estimator.py:385: StopAtStepHook.__init__ (from tensorflow.python.training.basic_session_run_hooks) is deprecated and will be removed in a future version.\n",
      "Instructions for updating:\n",
      "Use tf.keras instead.\n",
      "WARNING:tensorflow:From C:\\ProgramData\\Anaconda3\\envs\\tensorflow\\lib\\site-packages\\tensorflow\\python\\training\\training_util.py:396: Variable.initialized_value (from tensorflow.python.ops.variables) is deprecated and will be removed in a future version.\n",
      "Instructions for updating:\n",
      "Use Variable.read_value. Variables in 2.X are initialized automatically both in eager and graph (inside tf.defun) contexts.\n",
      "WARNING:tensorflow:From C:\\ProgramData\\Anaconda3\\envs\\tensorflow\\lib\\site-packages\\tensorflow_estimator\\python\\estimator\\inputs\\queues\\feeding_queue_runner.py:60: QueueRunner.__init__ (from tensorflow.python.training.queue_runner_impl) is deprecated and will be removed in a future version.\n",
      "Instructions for updating:\n",
      "To construct input pipelines, use the `tf.data` module.\n",
      "WARNING:tensorflow:From C:\\ProgramData\\Anaconda3\\envs\\tensorflow\\lib\\site-packages\\tensorflow_estimator\\python\\estimator\\inputs\\queues\\feeding_functions.py:491: add_queue_runner (from tensorflow.python.training.queue_runner_impl) is deprecated and will be removed in a future version.\n",
      "Instructions for updating:\n",
      "To construct input pipelines, use the `tf.data` module.\n",
      "INFO:tensorflow:Calling model_fn.\n",
      "WARNING:tensorflow:From C:\\ProgramData\\Anaconda3\\envs\\tensorflow\\lib\\site-packages\\keras\\optimizers\\legacy\\ftrl.py:173: calling Constant.__init__ (from tensorflow.python.ops.init_ops) with dtype is deprecated and will be removed in a future version.\n",
      "Instructions for updating:\n",
      "Call initializer instance with the dtype argument instead of passing it to the constructor\n",
      "WARNING:tensorflow:From C:\\ProgramData\\Anaconda3\\envs\\tensorflow\\lib\\site-packages\\tensorflow_estimator\\python\\estimator\\model_fn.py:250: EstimatorSpec.__new__ (from tensorflow_estimator.python.estimator.model_fn) is deprecated and will be removed in a future version.\n",
      "Instructions for updating:\n",
      "Use tf.keras instead.\n",
      "INFO:tensorflow:Done calling model_fn.\n",
      "WARNING:tensorflow:From C:\\ProgramData\\Anaconda3\\envs\\tensorflow\\lib\\site-packages\\tensorflow_estimator\\python\\estimator\\estimator.py:1414: NanTensorHook.__init__ (from tensorflow.python.training.basic_session_run_hooks) is deprecated and will be removed in a future version.\n",
      "Instructions for updating:\n",
      "Use tf.keras instead.\n",
      "WARNING:tensorflow:From C:\\ProgramData\\Anaconda3\\envs\\tensorflow\\lib\\site-packages\\tensorflow_estimator\\python\\estimator\\estimator.py:1417: LoggingTensorHook.__init__ (from tensorflow.python.training.basic_session_run_hooks) is deprecated and will be removed in a future version.\n",
      "Instructions for updating:\n",
      "Use tf.keras instead.\n",
      "WARNING:tensorflow:From C:\\ProgramData\\Anaconda3\\envs\\tensorflow\\lib\\site-packages\\tensorflow\\python\\training\\basic_session_run_hooks.py:232: SecondOrStepTimer.__init__ (from tensorflow.python.training.basic_session_run_hooks) is deprecated and will be removed in a future version.\n",
      "Instructions for updating:\n",
      "Use tf.keras instead.\n",
      "WARNING:tensorflow:From C:\\ProgramData\\Anaconda3\\envs\\tensorflow\\lib\\site-packages\\tensorflow_estimator\\python\\estimator\\estimator.py:1454: CheckpointSaverHook.__init__ (from tensorflow.python.training.basic_session_run_hooks) is deprecated and will be removed in a future version.\n",
      "Instructions for updating:\n",
      "Use tf.keras instead.\n",
      "INFO:tensorflow:Create CheckpointSaverHook.\n",
      "WARNING:tensorflow:From C:\\ProgramData\\Anaconda3\\envs\\tensorflow\\lib\\site-packages\\tensorflow\\python\\training\\monitored_session.py:579: StepCounterHook.__init__ (from tensorflow.python.training.basic_session_run_hooks) is deprecated and will be removed in a future version.\n",
      "Instructions for updating:\n",
      "Use tf.keras instead.\n",
      "WARNING:tensorflow:From C:\\ProgramData\\Anaconda3\\envs\\tensorflow\\lib\\site-packages\\tensorflow\\python\\training\\monitored_session.py:586: SummarySaverHook.__init__ (from tensorflow.python.training.basic_session_run_hooks) is deprecated and will be removed in a future version.\n",
      "Instructions for updating:\n",
      "Use tf.keras instead.\n",
      "INFO:tensorflow:Graph was finalized.\n",
      "INFO:tensorflow:Running local_init_op.\n",
      "INFO:tensorflow:Done running local_init_op.\n",
      "WARNING:tensorflow:From C:\\ProgramData\\Anaconda3\\envs\\tensorflow\\lib\\site-packages\\tensorflow\\python\\training\\monitored_session.py:910: start_queue_runners (from tensorflow.python.training.queue_runner_impl) is deprecated and will be removed in a future version.\n",
      "Instructions for updating:\n",
      "To construct input pipelines, use the `tf.data` module.\n",
      "INFO:tensorflow:Calling checkpoint listeners before saving checkpoint 0...\n",
      "INFO:tensorflow:Saving checkpoints for 0 into C:\\Users\\SUJITH~1\\AppData\\Local\\Temp\\tmpdkc0j2p7\\model.ckpt.\n",
      "INFO:tensorflow:Calling checkpoint listeners after saving checkpoint 0...\n",
      "WARNING:tensorflow:From C:\\ProgramData\\Anaconda3\\envs\\tensorflow\\lib\\site-packages\\tensorflow\\python\\training\\monitored_session.py:1455: SessionRunArgs.__new__ (from tensorflow.python.training.session_run_hook) is deprecated and will be removed in a future version.\n",
      "Instructions for updating:\n",
      "Use tf.keras instead.\n",
      "WARNING:tensorflow:From C:\\ProgramData\\Anaconda3\\envs\\tensorflow\\lib\\site-packages\\tensorflow\\python\\training\\monitored_session.py:1454: SessionRunContext.__init__ (from tensorflow.python.training.session_run_hook) is deprecated and will be removed in a future version.\n",
      "Instructions for updating:\n",
      "Use tf.keras instead.\n",
      "WARNING:tensorflow:From C:\\ProgramData\\Anaconda3\\envs\\tensorflow\\lib\\site-packages\\tensorflow\\python\\training\\monitored_session.py:1474: SessionRunValues.__new__ (from tensorflow.python.training.session_run_hook) is deprecated and will be removed in a future version.\n",
      "Instructions for updating:\n",
      "Use tf.keras instead.\n",
      "INFO:tensorflow:loss = 0.6931472, step = 0\n",
      "INFO:tensorflow:global_step/sec: 232.51\n",
      "INFO:tensorflow:loss = 4.078459, step = 100 (0.435 sec)\n",
      "INFO:tensorflow:global_step/sec: 414.963\n",
      "INFO:tensorflow:loss = 4.425716, step = 200 (0.241 sec)\n",
      "INFO:tensorflow:global_step/sec: 407.835\n",
      "INFO:tensorflow:loss = 2.0133755, step = 300 (0.243 sec)\n",
      "INFO:tensorflow:global_step/sec: 402.155\n",
      "INFO:tensorflow:loss = 6.6073623, step = 400 (0.250 sec)\n",
      "INFO:tensorflow:global_step/sec: 387.5\n",
      "INFO:tensorflow:loss = 0.68096787, step = 500 (0.258 sec)\n",
      "INFO:tensorflow:global_step/sec: 376.353\n",
      "INFO:tensorflow:loss = 3.4504213, step = 600 (0.264 sec)\n",
      "INFO:tensorflow:global_step/sec: 412.866\n",
      "INFO:tensorflow:loss = 0.98123276, step = 700 (0.242 sec)\n",
      "INFO:tensorflow:global_step/sec: 390.576\n",
      "INFO:tensorflow:loss = 1.4126198, step = 800 (0.257 sec)\n",
      "INFO:tensorflow:global_step/sec: 391.12\n",
      "INFO:tensorflow:loss = 0.44148242, step = 900 (0.253 sec)\n",
      "INFO:tensorflow:global_step/sec: 385.161\n",
      "INFO:tensorflow:loss = 0.73856753, step = 1000 (0.264 sec)\n",
      "INFO:tensorflow:global_step/sec: 399.255\n",
      "INFO:tensorflow:loss = 0.9357175, step = 1100 (0.245 sec)\n",
      "INFO:tensorflow:global_step/sec: 383.985\n",
      "INFO:tensorflow:loss = 4.116928, step = 1200 (0.264 sec)\n",
      "INFO:tensorflow:global_step/sec: 377.317\n",
      "INFO:tensorflow:loss = 0.9842181, step = 1300 (0.265 sec)\n",
      "INFO:tensorflow:global_step/sec: 382.415\n",
      "INFO:tensorflow:loss = 0.70208097, step = 1400 (0.260 sec)\n",
      "INFO:tensorflow:global_step/sec: 396.61\n",
      "INFO:tensorflow:loss = 1.2929983, step = 1500 (0.254 sec)\n",
      "INFO:tensorflow:global_step/sec: 327.565\n",
      "INFO:tensorflow:loss = 0.5999596, step = 1600 (0.304 sec)\n",
      "INFO:tensorflow:global_step/sec: 258.061\n",
      "INFO:tensorflow:loss = 0.3869172, step = 1700 (0.389 sec)\n",
      "INFO:tensorflow:global_step/sec: 219.026\n",
      "INFO:tensorflow:loss = 0.2560399, step = 1800 (0.455 sec)\n",
      "INFO:tensorflow:global_step/sec: 221.455\n",
      "INFO:tensorflow:loss = 0.45755962, step = 1900 (0.453 sec)\n",
      "INFO:tensorflow:global_step/sec: 281.969\n",
      "INFO:tensorflow:loss = 1.0520585, step = 2000 (0.355 sec)\n",
      "INFO:tensorflow:global_step/sec: 235.421\n",
      "INFO:tensorflow:loss = 3.0177755, step = 2100 (0.429 sec)\n",
      "INFO:tensorflow:global_step/sec: 120.225\n",
      "INFO:tensorflow:loss = 0.2862508, step = 2200 (0.831 sec)\n",
      "INFO:tensorflow:global_step/sec: 236.706\n",
      "INFO:tensorflow:loss = 0.86588293, step = 2300 (0.416 sec)\n",
      "INFO:tensorflow:global_step/sec: 275.184\n",
      "INFO:tensorflow:loss = 5.9896436, step = 2400 (0.365 sec)\n",
      "INFO:tensorflow:global_step/sec: 278.087\n",
      "INFO:tensorflow:loss = 4.040114, step = 2500 (0.358 sec)\n",
      "INFO:tensorflow:global_step/sec: 276.022\n",
      "INFO:tensorflow:loss = 1.4878998, step = 2600 (0.360 sec)\n",
      "INFO:tensorflow:global_step/sec: 266.511\n",
      "INFO:tensorflow:loss = 0.39021087, step = 2700 (0.377 sec)\n",
      "INFO:tensorflow:global_step/sec: 278.318\n",
      "INFO:tensorflow:loss = 0.30917698, step = 2800 (0.360 sec)\n",
      "INFO:tensorflow:global_step/sec: 242.14\n",
      "INFO:tensorflow:loss = 0.40987056, step = 2900 (0.415 sec)\n",
      "INFO:tensorflow:global_step/sec: 281.31\n",
      "INFO:tensorflow:loss = 0.9001739, step = 3000 (0.352 sec)\n",
      "INFO:tensorflow:global_step/sec: 239.339\n",
      "INFO:tensorflow:loss = 1.0014601, step = 3100 (0.426 sec)\n",
      "INFO:tensorflow:global_step/sec: 157.909\n",
      "INFO:tensorflow:loss = 0.46505606, step = 3200 (0.639 sec)\n",
      "INFO:tensorflow:global_step/sec: 165.172\n",
      "INFO:tensorflow:loss = 3.1377106, step = 3300 (0.598 sec)\n",
      "INFO:tensorflow:global_step/sec: 164.885\n",
      "INFO:tensorflow:loss = 2.1921287, step = 3400 (0.604 sec)\n",
      "INFO:tensorflow:global_step/sec: 242.795\n",
      "INFO:tensorflow:loss = 0.37056714, step = 3500 (0.409 sec)\n",
      "INFO:tensorflow:global_step/sec: 296.937\n",
      "INFO:tensorflow:loss = 2.7927759, step = 3600 (0.337 sec)\n",
      "INFO:tensorflow:global_step/sec: 279.043\n",
      "INFO:tensorflow:loss = 0.3751835, step = 3700 (0.360 sec)\n",
      "INFO:tensorflow:global_step/sec: 245.638\n",
      "INFO:tensorflow:loss = 0.9148857, step = 3800 (0.408 sec)\n",
      "INFO:tensorflow:global_step/sec: 278.814\n",
      "INFO:tensorflow:loss = 0.9487854, step = 3900 (0.357 sec)\n",
      "INFO:tensorflow:global_step/sec: 268.501\n",
      "INFO:tensorflow:loss = 0.24731804, step = 4000 (0.374 sec)\n",
      "INFO:tensorflow:global_step/sec: 287.292\n",
      "INFO:tensorflow:loss = 1.1087942, step = 4100 (0.347 sec)\n",
      "INFO:tensorflow:global_step/sec: 293.507\n",
      "INFO:tensorflow:loss = 0.6789055, step = 4200 (0.342 sec)\n",
      "INFO:tensorflow:global_step/sec: 265.969\n",
      "INFO:tensorflow:loss = 0.3630188, step = 4300 (0.375 sec)\n",
      "INFO:tensorflow:global_step/sec: 244.608\n",
      "INFO:tensorflow:loss = 1.9369671, step = 4400 (0.412 sec)\n",
      "INFO:tensorflow:global_step/sec: 264.356\n",
      "INFO:tensorflow:loss = 0.36258247, step = 4500 (0.375 sec)\n",
      "INFO:tensorflow:global_step/sec: 272.403\n",
      "INFO:tensorflow:loss = 0.53459704, step = 4600 (0.367 sec)\n",
      "INFO:tensorflow:global_step/sec: 260.056\n",
      "INFO:tensorflow:loss = 0.7445439, step = 4700 (0.392 sec)\n",
      "INFO:tensorflow:global_step/sec: 281.077\n",
      "INFO:tensorflow:loss = 0.48657203, step = 4800 (0.348 sec)\n",
      "INFO:tensorflow:global_step/sec: 283.271\n",
      "INFO:tensorflow:loss = 0.32675102, step = 4900 (0.353 sec)\n",
      "INFO:tensorflow:Calling checkpoint listeners before saving checkpoint 5000...\n",
      "INFO:tensorflow:Saving checkpoints for 5000 into C:\\Users\\SUJITH~1\\AppData\\Local\\Temp\\tmpdkc0j2p7\\model.ckpt.\n",
      "INFO:tensorflow:Calling checkpoint listeners after saving checkpoint 5000...\n",
      "INFO:tensorflow:Loss for final step: 0.43260247.\n"
     ]
    },
    {
     "data": {
      "text/plain": [
       "<tensorflow_estimator.python.estimator.canned.linear.LinearClassifierV2 at 0x2a8e5a253d0>"
      ]
     },
     "execution_count": 22,
     "metadata": {},
     "output_type": "execute_result"
    }
   ],
   "source": [
    "# building the model\n",
    "\n",
    "model = tf.estimator.LinearClassifier(feature_columns=feature_cols)\n",
    "model.train(input_fn=input_function, steps=5000)"
   ]
  },
  {
   "cell_type": "code",
   "execution_count": 23,
   "id": "c0fd1fd5-aee9-4fea-ab93-fc4f64049a47",
   "metadata": {},
   "outputs": [],
   "source": [
    "# create predict input function\n",
    "predict_function = tf.compat.v1.estimator.inputs.pandas_input_fn(x=x_test, batch_size=len(x_test), shuffle=False)"
   ]
  },
  {
   "cell_type": "code",
   "execution_count": 25,
   "id": "a17ab0af-54d0-45fd-b71b-03f88f2be225",
   "metadata": {},
   "outputs": [
    {
     "name": "stdout",
     "output_type": "stream",
     "text": [
      "INFO:tensorflow:Calling model_fn.\n",
      "INFO:tensorflow:Done calling model_fn.\n",
      "INFO:tensorflow:Graph was finalized.\n",
      "INFO:tensorflow:Restoring parameters from C:\\Users\\SUJITH~1\\AppData\\Local\\Temp\\tmpdkc0j2p7\\model.ckpt-5000\n",
      "INFO:tensorflow:Running local_init_op.\n",
      "INFO:tensorflow:Done running local_init_op.\n"
     ]
    },
    {
     "data": {
      "text/plain": [
       "{'logits': array([-1.1773127], dtype=float32),\n",
       " 'logistic': array([0.23553571], dtype=float32),\n",
       " 'probabilities': array([0.76446426, 0.23553571], dtype=float32),\n",
       " 'class_ids': array([0], dtype=int64),\n",
       " 'classes': array([b'0'], dtype=object),\n",
       " 'all_class_ids': array([0, 1]),\n",
       " 'all_classes': array([b'0', b'1'], dtype=object)}"
      ]
     },
     "execution_count": 25,
     "metadata": {},
     "output_type": "execute_result"
    }
   ],
   "source": [
    "# make the final prediction\n",
    "predictions = list(model.predict(input_fn=predict_function))\n",
    "predictions[0]"
   ]
  },
  {
   "cell_type": "code",
   "execution_count": 27,
   "id": "b170777c-49ee-4016-8c98-05ca3f8b25b9",
   "metadata": {},
   "outputs": [
    {
     "data": {
      "text/plain": [
       "[0, 0, 0, 0, 1, 0, 0, 0, 0, 0]"
      ]
     },
     "execution_count": 27,
     "metadata": {},
     "output_type": "execute_result"
    }
   ],
   "source": [
    "# formatting the prediction output and print first 10\n",
    "final_pred = []\n",
    "for pred in predictions:\n",
    "    final_pred.append(pred[\"class_ids\"][0])\n",
    "    \n",
    "final_pred[:10]"
   ]
  },
  {
   "cell_type": "code",
   "execution_count": 31,
   "id": "49fa6ba6-cafd-405f-bda4-c8cb7c217b6a",
   "metadata": {},
   "outputs": [
    {
     "name": "stdout",
     "output_type": "stream",
     "text": [
      "              precision    recall  f1-score   support\n",
      "\n",
      "           0       0.88      0.90      0.89      7436\n",
      "           1       0.67      0.61      0.64      2333\n",
      "\n",
      "    accuracy                           0.83      9769\n",
      "   macro avg       0.77      0.76      0.76      9769\n",
      "weighted avg       0.83      0.83      0.83      9769\n",
      "\n"
     ]
    }
   ],
   "source": [
    "# print the accuracy report\n",
    "print(classification_report(y_test, final_pred))"
   ]
  },
  {
   "cell_type": "code",
   "execution_count": null,
   "id": "5c243266-c9dc-4158-b704-dcc3579684d2",
   "metadata": {},
   "outputs": [],
   "source": []
  }
 ],
 "metadata": {
  "kernelspec": {
   "display_name": "Python 3 (ipykernel)",
   "language": "python",
   "name": "python3"
  },
  "language_info": {
   "codemirror_mode": {
    "name": "ipython",
    "version": 3
   },
   "file_extension": ".py",
   "mimetype": "text/x-python",
   "name": "python",
   "nbconvert_exporter": "python",
   "pygments_lexer": "ipython3",
   "version": "3.9.16"
  }
 },
 "nbformat": 4,
 "nbformat_minor": 5
}
