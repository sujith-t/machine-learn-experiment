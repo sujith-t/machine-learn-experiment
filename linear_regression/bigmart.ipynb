{
 "cells": [
  {
   "cell_type": "code",
   "execution_count": 2,
   "id": "edd6b617-397e-4e70-9b79-26a3f1f90289",
   "metadata": {},
   "outputs": [],
   "source": [
    "# importing library\n",
    "import pandas as pd\n",
    "import numpy as np\n",
    "from sklearn.preprocessing import LabelEncoder\n",
    "from sklearn.linear_model import LinearRegression\n",
    "from sklearn.metrics import r2_score, mean_squared_error\n",
    "import matplotlib.pyplot as plt\n",
    "\n",
    "%matplotlib inline"
   ]
  },
  {
   "cell_type": "code",
   "execution_count": 67,
   "id": "dbbe18a4-d145-4e2b-bd93-c96cdafdd49c",
   "metadata": {},
   "outputs": [
    {
     "data": {
      "text/html": [
       "<div>\n",
       "<style scoped>\n",
       "    .dataframe tbody tr th:only-of-type {\n",
       "        vertical-align: middle;\n",
       "    }\n",
       "\n",
       "    .dataframe tbody tr th {\n",
       "        vertical-align: top;\n",
       "    }\n",
       "\n",
       "    .dataframe thead th {\n",
       "        text-align: right;\n",
       "    }\n",
       "</style>\n",
       "<table border=\"1\" class=\"dataframe\">\n",
       "  <thead>\n",
       "    <tr style=\"text-align: right;\">\n",
       "      <th></th>\n",
       "      <th>Item_Identifier</th>\n",
       "      <th>Item_Weight</th>\n",
       "      <th>Item_Fat_Content</th>\n",
       "      <th>Item_Visibility</th>\n",
       "      <th>Item_Type</th>\n",
       "      <th>Item_MRP</th>\n",
       "      <th>Outlet_Identifier</th>\n",
       "      <th>Outlet_Establishment_Year</th>\n",
       "      <th>Outlet_Size</th>\n",
       "      <th>Outlet_Location_Type</th>\n",
       "      <th>Outlet_Type</th>\n",
       "      <th>Item_Outlet_Sales</th>\n",
       "      <th>source</th>\n",
       "    </tr>\n",
       "  </thead>\n",
       "  <tbody>\n",
       "    <tr>\n",
       "      <th>0</th>\n",
       "      <td>FDA15</td>\n",
       "      <td>9.30</td>\n",
       "      <td>Low Fat</td>\n",
       "      <td>0.016047</td>\n",
       "      <td>Dairy</td>\n",
       "      <td>249.8092</td>\n",
       "      <td>OUT049</td>\n",
       "      <td>1999</td>\n",
       "      <td>Medium</td>\n",
       "      <td>Tier 1</td>\n",
       "      <td>Supermarket Type1</td>\n",
       "      <td>3735.1380</td>\n",
       "      <td>train</td>\n",
       "    </tr>\n",
       "    <tr>\n",
       "      <th>1</th>\n",
       "      <td>DRC01</td>\n",
       "      <td>5.92</td>\n",
       "      <td>Regular</td>\n",
       "      <td>0.019278</td>\n",
       "      <td>Soft Drinks</td>\n",
       "      <td>48.2692</td>\n",
       "      <td>OUT018</td>\n",
       "      <td>2009</td>\n",
       "      <td>Medium</td>\n",
       "      <td>Tier 3</td>\n",
       "      <td>Supermarket Type2</td>\n",
       "      <td>443.4228</td>\n",
       "      <td>train</td>\n",
       "    </tr>\n",
       "    <tr>\n",
       "      <th>2</th>\n",
       "      <td>FDN15</td>\n",
       "      <td>17.50</td>\n",
       "      <td>Low Fat</td>\n",
       "      <td>0.016760</td>\n",
       "      <td>Meat</td>\n",
       "      <td>141.6180</td>\n",
       "      <td>OUT049</td>\n",
       "      <td>1999</td>\n",
       "      <td>Medium</td>\n",
       "      <td>Tier 1</td>\n",
       "      <td>Supermarket Type1</td>\n",
       "      <td>2097.2700</td>\n",
       "      <td>train</td>\n",
       "    </tr>\n",
       "    <tr>\n",
       "      <th>3</th>\n",
       "      <td>FDX07</td>\n",
       "      <td>19.20</td>\n",
       "      <td>Regular</td>\n",
       "      <td>0.000000</td>\n",
       "      <td>Fruits and Vegetables</td>\n",
       "      <td>182.0950</td>\n",
       "      <td>OUT010</td>\n",
       "      <td>1998</td>\n",
       "      <td>NaN</td>\n",
       "      <td>Tier 3</td>\n",
       "      <td>Grocery Store</td>\n",
       "      <td>732.3800</td>\n",
       "      <td>train</td>\n",
       "    </tr>\n",
       "    <tr>\n",
       "      <th>4</th>\n",
       "      <td>NCD19</td>\n",
       "      <td>8.93</td>\n",
       "      <td>Low Fat</td>\n",
       "      <td>0.000000</td>\n",
       "      <td>Household</td>\n",
       "      <td>53.8614</td>\n",
       "      <td>OUT013</td>\n",
       "      <td>1987</td>\n",
       "      <td>High</td>\n",
       "      <td>Tier 3</td>\n",
       "      <td>Supermarket Type1</td>\n",
       "      <td>994.7052</td>\n",
       "      <td>train</td>\n",
       "    </tr>\n",
       "  </tbody>\n",
       "</table>\n",
       "</div>"
      ],
      "text/plain": [
       "  Item_Identifier  Item_Weight Item_Fat_Content  Item_Visibility  \\\n",
       "0           FDA15         9.30          Low Fat         0.016047   \n",
       "1           DRC01         5.92          Regular         0.019278   \n",
       "2           FDN15        17.50          Low Fat         0.016760   \n",
       "3           FDX07        19.20          Regular         0.000000   \n",
       "4           NCD19         8.93          Low Fat         0.000000   \n",
       "\n",
       "               Item_Type  Item_MRP Outlet_Identifier  \\\n",
       "0                  Dairy  249.8092            OUT049   \n",
       "1            Soft Drinks   48.2692            OUT018   \n",
       "2                   Meat  141.6180            OUT049   \n",
       "3  Fruits and Vegetables  182.0950            OUT010   \n",
       "4              Household   53.8614            OUT013   \n",
       "\n",
       "   Outlet_Establishment_Year Outlet_Size Outlet_Location_Type  \\\n",
       "0                       1999      Medium               Tier 1   \n",
       "1                       2009      Medium               Tier 3   \n",
       "2                       1999      Medium               Tier 1   \n",
       "3                       1998         NaN               Tier 3   \n",
       "4                       1987        High               Tier 3   \n",
       "\n",
       "         Outlet_Type  Item_Outlet_Sales source  \n",
       "0  Supermarket Type1          3735.1380  train  \n",
       "1  Supermarket Type2           443.4228  train  \n",
       "2  Supermarket Type1          2097.2700  train  \n",
       "3      Grocery Store           732.3800  train  \n",
       "4  Supermarket Type1           994.7052  train  "
      ]
     },
     "execution_count": 67,
     "metadata": {},
     "output_type": "execute_result"
    }
   ],
   "source": [
    "# need to merge both datasets\n",
    "train = pd.read_csv(\"bigmart_train.csv\") #train.shape = (8523, 12)\n",
    "test = pd.read_csv(\"bigmart_test.csv\") #test.shape = (5681, 11)\n",
    "train[\"source\"] = \"train\"\n",
    "test[\"source\"] = \"test\"\n",
    "data = pd.concat([train, test], ignore_index=True)\n",
    "data.head()"
   ]
  },
  {
   "cell_type": "code",
   "execution_count": 68,
   "id": "9ebac265-c731-4fc2-a40a-c0d0e68916f7",
   "metadata": {},
   "outputs": [
    {
     "data": {
      "text/html": [
       "<div>\n",
       "<style scoped>\n",
       "    .dataframe tbody tr th:only-of-type {\n",
       "        vertical-align: middle;\n",
       "    }\n",
       "\n",
       "    .dataframe tbody tr th {\n",
       "        vertical-align: top;\n",
       "    }\n",
       "\n",
       "    .dataframe thead th {\n",
       "        text-align: right;\n",
       "    }\n",
       "</style>\n",
       "<table border=\"1\" class=\"dataframe\">\n",
       "  <thead>\n",
       "    <tr style=\"text-align: right;\">\n",
       "      <th></th>\n",
       "      <th>Item_Weight</th>\n",
       "      <th>Item_Visibility</th>\n",
       "      <th>Item_MRP</th>\n",
       "      <th>Outlet_Establishment_Year</th>\n",
       "      <th>Item_Outlet_Sales</th>\n",
       "    </tr>\n",
       "  </thead>\n",
       "  <tbody>\n",
       "    <tr>\n",
       "      <th>count</th>\n",
       "      <td>11765.000000</td>\n",
       "      <td>14204.000000</td>\n",
       "      <td>14204.000000</td>\n",
       "      <td>14204.000000</td>\n",
       "      <td>8523.000000</td>\n",
       "    </tr>\n",
       "    <tr>\n",
       "      <th>mean</th>\n",
       "      <td>12.792854</td>\n",
       "      <td>0.065953</td>\n",
       "      <td>141.004977</td>\n",
       "      <td>1997.830681</td>\n",
       "      <td>2181.288914</td>\n",
       "    </tr>\n",
       "    <tr>\n",
       "      <th>std</th>\n",
       "      <td>4.652502</td>\n",
       "      <td>0.051459</td>\n",
       "      <td>62.086938</td>\n",
       "      <td>8.371664</td>\n",
       "      <td>1706.499616</td>\n",
       "    </tr>\n",
       "    <tr>\n",
       "      <th>min</th>\n",
       "      <td>4.555000</td>\n",
       "      <td>0.000000</td>\n",
       "      <td>31.290000</td>\n",
       "      <td>1985.000000</td>\n",
       "      <td>33.290000</td>\n",
       "    </tr>\n",
       "    <tr>\n",
       "      <th>25%</th>\n",
       "      <td>8.710000</td>\n",
       "      <td>0.027036</td>\n",
       "      <td>94.012000</td>\n",
       "      <td>1987.000000</td>\n",
       "      <td>834.247400</td>\n",
       "    </tr>\n",
       "    <tr>\n",
       "      <th>50%</th>\n",
       "      <td>12.600000</td>\n",
       "      <td>0.054021</td>\n",
       "      <td>142.247000</td>\n",
       "      <td>1999.000000</td>\n",
       "      <td>1794.331000</td>\n",
       "    </tr>\n",
       "    <tr>\n",
       "      <th>75%</th>\n",
       "      <td>16.750000</td>\n",
       "      <td>0.094037</td>\n",
       "      <td>185.855600</td>\n",
       "      <td>2004.000000</td>\n",
       "      <td>3101.296400</td>\n",
       "    </tr>\n",
       "    <tr>\n",
       "      <th>max</th>\n",
       "      <td>21.350000</td>\n",
       "      <td>0.328391</td>\n",
       "      <td>266.888400</td>\n",
       "      <td>2009.000000</td>\n",
       "      <td>13086.964800</td>\n",
       "    </tr>\n",
       "  </tbody>\n",
       "</table>\n",
       "</div>"
      ],
      "text/plain": [
       "        Item_Weight  Item_Visibility      Item_MRP  Outlet_Establishment_Year  \\\n",
       "count  11765.000000     14204.000000  14204.000000               14204.000000   \n",
       "mean      12.792854         0.065953    141.004977                1997.830681   \n",
       "std        4.652502         0.051459     62.086938                   8.371664   \n",
       "min        4.555000         0.000000     31.290000                1985.000000   \n",
       "25%        8.710000         0.027036     94.012000                1987.000000   \n",
       "50%       12.600000         0.054021    142.247000                1999.000000   \n",
       "75%       16.750000         0.094037    185.855600                2004.000000   \n",
       "max       21.350000         0.328391    266.888400                2009.000000   \n",
       "\n",
       "       Item_Outlet_Sales  \n",
       "count        8523.000000  \n",
       "mean         2181.288914  \n",
       "std          1706.499616  \n",
       "min            33.290000  \n",
       "25%           834.247400  \n",
       "50%          1794.331000  \n",
       "75%          3101.296400  \n",
       "max         13086.964800  "
      ]
     },
     "execution_count": 68,
     "metadata": {},
     "output_type": "execute_result"
    }
   ],
   "source": [
    "# get general statistics on the numerical columns\n",
    "data.describe()"
   ]
  },
  {
   "cell_type": "code",
   "execution_count": 69,
   "id": "d482e6fb-efd6-4abd-8319-b0489d2a372b",
   "metadata": {},
   "outputs": [
    {
     "data": {
      "text/plain": [
       "Item_Identifier                 0\n",
       "Item_Weight                  2439\n",
       "Item_Fat_Content                0\n",
       "Item_Visibility                 0\n",
       "Item_Type                       0\n",
       "Item_MRP                        0\n",
       "Outlet_Identifier               0\n",
       "Outlet_Establishment_Year       0\n",
       "Outlet_Size                  4016\n",
       "Outlet_Location_Type            0\n",
       "Outlet_Type                     0\n",
       "Item_Outlet_Sales            5681\n",
       "source                          0\n",
       "dtype: int64"
      ]
     },
     "execution_count": 69,
     "metadata": {},
     "output_type": "execute_result"
    }
   ],
   "source": [
    "# find the null columns so that we can do data clensing\n",
    "data.isnull().sum()"
   ]
  },
  {
   "cell_type": "code",
   "execution_count": 70,
   "id": "b5c12bb9-c868-41b8-bc48-d1ee946fb783",
   "metadata": {},
   "outputs": [
    {
     "name": "stdout",
     "output_type": "stream",
     "text": [
      "Unique Values\n",
      "----------------\n",
      "['Low Fat' 'Regular' 'low fat' 'LF' 'reg']\n",
      "[1999 2009 1998 1987 1985 2002 2007 1997 2004]\n",
      "['Medium' nan 'High' 'Small']\n"
     ]
    },
    {
     "data": {
      "text/html": [
       "<div>\n",
       "<style scoped>\n",
       "    .dataframe tbody tr th:only-of-type {\n",
       "        vertical-align: middle;\n",
       "    }\n",
       "\n",
       "    .dataframe tbody tr th {\n",
       "        vertical-align: top;\n",
       "    }\n",
       "\n",
       "    .dataframe thead th {\n",
       "        text-align: right;\n",
       "    }\n",
       "</style>\n",
       "<table border=\"1\" class=\"dataframe\">\n",
       "  <thead>\n",
       "    <tr style=\"text-align: right;\">\n",
       "      <th></th>\n",
       "      <th>Item_Identifier</th>\n",
       "      <th>Item_Weight</th>\n",
       "      <th>Item_Fat_Content</th>\n",
       "      <th>Item_Visibility</th>\n",
       "      <th>Item_Type</th>\n",
       "      <th>Item_MRP</th>\n",
       "      <th>Outlet_Identifier</th>\n",
       "      <th>Outlet_Establishment_Year</th>\n",
       "      <th>Outlet_Size</th>\n",
       "      <th>Outlet_Location_Type</th>\n",
       "      <th>Outlet_Type</th>\n",
       "      <th>Item_Outlet_Sales</th>\n",
       "      <th>source</th>\n",
       "      <th>Outlet_Age</th>\n",
       "    </tr>\n",
       "  </thead>\n",
       "  <tbody>\n",
       "    <tr>\n",
       "      <th>0</th>\n",
       "      <td>FDA15</td>\n",
       "      <td>9.30</td>\n",
       "      <td>Low Fat</td>\n",
       "      <td>0.016047</td>\n",
       "      <td>Dairy</td>\n",
       "      <td>249.8092</td>\n",
       "      <td>OUT049</td>\n",
       "      <td>1999</td>\n",
       "      <td>Medium</td>\n",
       "      <td>Tier 1</td>\n",
       "      <td>Supermarket Type1</td>\n",
       "      <td>3735.1380</td>\n",
       "      <td>train</td>\n",
       "      <td>19</td>\n",
       "    </tr>\n",
       "    <tr>\n",
       "      <th>1</th>\n",
       "      <td>DRC01</td>\n",
       "      <td>5.92</td>\n",
       "      <td>Regular</td>\n",
       "      <td>0.019278</td>\n",
       "      <td>Soft Drinks</td>\n",
       "      <td>48.2692</td>\n",
       "      <td>OUT018</td>\n",
       "      <td>2009</td>\n",
       "      <td>Medium</td>\n",
       "      <td>Tier 3</td>\n",
       "      <td>Supermarket Type2</td>\n",
       "      <td>443.4228</td>\n",
       "      <td>train</td>\n",
       "      <td>9</td>\n",
       "    </tr>\n",
       "  </tbody>\n",
       "</table>\n",
       "</div>"
      ],
      "text/plain": [
       "  Item_Identifier  Item_Weight Item_Fat_Content  Item_Visibility    Item_Type  \\\n",
       "0           FDA15         9.30          Low Fat         0.016047        Dairy   \n",
       "1           DRC01         5.92          Regular         0.019278  Soft Drinks   \n",
       "\n",
       "   Item_MRP Outlet_Identifier  Outlet_Establishment_Year Outlet_Size  \\\n",
       "0  249.8092            OUT049                       1999      Medium   \n",
       "1   48.2692            OUT018                       2009      Medium   \n",
       "\n",
       "  Outlet_Location_Type        Outlet_Type  Item_Outlet_Sales source  \\\n",
       "0               Tier 1  Supermarket Type1          3735.1380  train   \n",
       "1               Tier 3  Supermarket Type2           443.4228  train   \n",
       "\n",
       "   Outlet_Age  \n",
       "0          19  \n",
       "1           9  "
      ]
     },
     "execution_count": 70,
     "metadata": {},
     "output_type": "execute_result"
    }
   ],
   "source": [
    "# get unique values\n",
    "print(\"Unique Values\\n----------------\")\n",
    "print(data[\"Item_Fat_Content\"].unique())\n",
    "print(data[\"Outlet_Establishment_Year\"].unique())\n",
    "print(data[\"Outlet_Size\"].unique())\n",
    "\n",
    "# calculate outlet age\n",
    "data[\"Outlet_Age\"] = 2018 - data[\"Outlet_Establishment_Year\"]\n",
    "data.head(2)"
   ]
  },
  {
   "cell_type": "code",
   "execution_count": 71,
   "id": "0f2bbb9a-49ab-42a9-bbe9-0c192d76e7e5",
   "metadata": {},
   "outputs": [
    {
     "name": "stdout",
     "output_type": "stream",
     "text": [
      "Item fat content count\n",
      "----------------\n",
      "Low Fat    8485\n",
      "Regular    4824\n",
      "LF          522\n",
      "reg         195\n",
      "low fat     178\n",
      "Name: Item_Fat_Content, dtype: int64\n",
      "\n",
      "Outlet size count\n",
      "----------------\n",
      "Medium    4655\n",
      "Small     3980\n",
      "High      1553\n",
      "Name: Outlet_Size, dtype: int64\n"
     ]
    }
   ],
   "source": [
    "# get the counts\n",
    "print(\"Item fat content count\\n----------------\")\n",
    "print(data[\"Item_Fat_Content\"].value_counts())\n",
    "\n",
    "print(\"\\nOutlet size count\\n----------------\")\n",
    "print(data[\"Outlet_Size\"].value_counts())"
   ]
  },
  {
   "cell_type": "code",
   "execution_count": 72,
   "id": "b21014f9-316c-4eba-ad03-3f348bcd9335",
   "metadata": {},
   "outputs": [
    {
     "name": "stdout",
     "output_type": "stream",
     "text": [
      "Most common value in outlet size - Medium\n"
     ]
    }
   ],
   "source": [
    "# imputing missing values\n",
    "\n",
    "# most common value \"Medium\" is replaced for missing values\n",
    "print(\"Most common value in outlet size - %s\" % data[\"Outlet_Size\"].mode()[0])\n",
    "data[\"Outlet_Size\"] = data[\"Outlet_Size\"].fillna(data[\"Outlet_Size\"].mode()[0])\n",
    "\n",
    "data[\"Item_Weight\"] = data[\"Item_Weight\"].fillna(data[\"Item_Weight\"].mean())"
   ]
  },
  {
   "cell_type": "code",
   "execution_count": 73,
   "id": "68767c40-dfb9-4347-8eaf-dca3f69ec466",
   "metadata": {},
   "outputs": [
    {
     "data": {
      "text/plain": [
       "(13943, 14)"
      ]
     },
     "execution_count": 73,
     "metadata": {},
     "output_type": "execute_result"
    },
    {
     "data": {
      "image/png": "[encoded data removed]",
      "text/plain": [
       "<Figure size 640x480 with 1 Axes>"
      ]
     },
     "metadata": {},
     "output_type": "display_data"
    }
   ],
   "source": [
    "# detecting outliers in Item_Visibility column\n",
    "data[\"Item_Visibility\"].hist(bins=20)\n",
    "q1 = data[\"Item_Visibility\"].quantile(0.25)\n",
    "q3 = data[\"Item_Visibility\"].quantile(0.75)\n",
    "\n",
    "# calculate inter quantile range\n",
    "iqr = q3 - q1\n",
    "\n",
    "# remove outlier data\n",
    "fill_data = data.query('(@q1 - 1.5 * @iqr) <= Item_Visibility <= (@q3 + 1.5 * @iqr)')\n",
    "data = fill_data\n",
    "fill_data.shape"
   ]
  },
  {
   "cell_type": "code",
   "execution_count": 74,
   "id": "99cdef92-1d62-4853-8d45-6a726d0b0cb4",
   "metadata": {},
   "outputs": [
    {
     "data": {
      "text/plain": [
       "array(['Low Fat', 'Regular'], dtype=object)"
      ]
     },
     "execution_count": 74,
     "metadata": {},
     "output_type": "execute_result"
    }
   ],
   "source": [
    "# converting Item_Visibility into categorical\n",
    "data[\"Item_Visibility_bins\"] = pd.cut(data[\"Item_Visibility\"], [0.000, 0.065, 0.13, 0.2], ['Low Viz', 'Viz', 'High Viz'])\n",
    "data[\"Item_Visibility_bins\"] = data[\"Item_Visibility_bins\"].replace(np.nan, 'Low Viz', regex=True)\n",
    "\n",
    "# imputing correct values to Item_Fat_Content\n",
    "data[\"Item_Fat_Content\"] = data[\"Item_Fat_Content\"].replace([\"low fat\", \"LF\"], \"Low Fat\")\n",
    "data[\"Item_Fat_Content\"] = data[\"Item_Fat_Content\"].replace(\"reg\", \"Regular\")\n",
    "data[\"Item_Fat_Content\"].unique()"
   ]
  },
  {
   "cell_type": "code",
   "execution_count": 75,
   "id": "ffdbae0a-d081-45c0-a140-b49ebfac0b52",
   "metadata": {},
   "outputs": [],
   "source": [
    "# code all categorical variables into numeric\n",
    "le = LabelEncoder()\n",
    "data[\"Item_Fat_Content\"] = le.fit_transform(data[\"Item_Fat_Content\"])\n",
    "data[\"Item_Visibility_bins\"] = le.fit_transform(data[\"Item_Visibility_bins\"])\n",
    "data[\"Outlet_Size\"] = le.fit_transform(data[\"Outlet_Size\"])\n",
    "data[\"Outlet_Location_Type\"] = le.fit_transform(data[\"Outlet_Location_Type\"])"
   ]
  },
  {
   "cell_type": "code",
   "execution_count": 76,
   "id": "716ce548-4595-42e4-b970-ee5b6deea951",
   "metadata": {},
   "outputs": [
    {
     "data": {
      "text/html": [
       "<div>\n",
       "<style scoped>\n",
       "    .dataframe tbody tr th:only-of-type {\n",
       "        vertical-align: middle;\n",
       "    }\n",
       "\n",
       "    .dataframe tbody tr th {\n",
       "        vertical-align: top;\n",
       "    }\n",
       "\n",
       "    .dataframe thead th {\n",
       "        text-align: right;\n",
       "    }\n",
       "</style>\n",
       "<table border=\"1\" class=\"dataframe\">\n",
       "  <thead>\n",
       "    <tr style=\"text-align: right;\">\n",
       "      <th></th>\n",
       "      <th>Grocery Store</th>\n",
       "      <th>Supermarket Type1</th>\n",
       "      <th>Supermarket Type2</th>\n",
       "      <th>Supermarket Type3</th>\n",
       "    </tr>\n",
       "  </thead>\n",
       "  <tbody>\n",
       "    <tr>\n",
       "      <th>0</th>\n",
       "      <td>0</td>\n",
       "      <td>1</td>\n",
       "      <td>0</td>\n",
       "      <td>0</td>\n",
       "    </tr>\n",
       "    <tr>\n",
       "      <th>1</th>\n",
       "      <td>0</td>\n",
       "      <td>0</td>\n",
       "      <td>1</td>\n",
       "      <td>0</td>\n",
       "    </tr>\n",
       "  </tbody>\n",
       "</table>\n",
       "</div>"
      ],
      "text/plain": [
       "   Grocery Store  Supermarket Type1  Supermarket Type2  Supermarket Type3\n",
       "0              0                  1                  0                  0\n",
       "1              0                  0                  1                  0"
      ]
     },
     "execution_count": 76,
     "metadata": {},
     "output_type": "execute_result"
    }
   ],
   "source": [
    "# create dummies\n",
    "outlet_type_dummy = pd.get_dummies(data[\"Outlet_Type\"])\n",
    "outlet_type_dummy.head(2)"
   ]
  },
  {
   "cell_type": "code",
   "execution_count": 77,
   "id": "7d05c359-6d9e-42c6-a817-a896353bffa1",
   "metadata": {},
   "outputs": [
    {
     "data": {
      "text/plain": [
       "Food              9991\n",
       "Non-Consumable    2652\n",
       "Drinks            1300\n",
       "Name: Item_Type_Combined, dtype: int64"
      ]
     },
     "execution_count": 77,
     "metadata": {},
     "output_type": "execute_result"
    }
   ],
   "source": [
    "# combining Item_Identifier(code) to form 3 main categories as Food, Non-consumable, Drinks extracting first 2 chars in Item_Identifier\n",
    "data[\"Item_Type_Combined\"] = data[\"Item_Identifier\"].apply(lambda x: x[0:2])\n",
    "data[\"Item_Type_Combined\"] = data[\"Item_Type_Combined\"].map({\"FD\": \"Food\", \"DR\": \"Drinks\", \"NC\": \"Non-Consumable\"})\n",
    "data[\"Item_Type_Combined\"].value_counts()"
   ]
  },
  {
   "cell_type": "code",
   "execution_count": 80,
   "id": "7a03362d-802e-4dc8-a157-e58be933ca8f",
   "metadata": {},
   "outputs": [
    {
     "data": {
      "text/plain": [
       "Item_Identifier                       object\n",
       "Item_Weight                          float64\n",
       "Item_Visibility                      float64\n",
       "Item_Type                             object\n",
       "Item_MRP                             float64\n",
       "Outlet_Identifier                     object\n",
       "Outlet_Establishment_Year              int64\n",
       "Item_Outlet_Sales                    float64\n",
       "source                                object\n",
       "Outlet_Age                             int64\n",
       "Item_Visibility_bins                   int32\n",
       "Item_Fat_Content_0                     uint8\n",
       "Item_Fat_Content_1                     uint8\n",
       "Outlet_Location_Type_0                 uint8\n",
       "Outlet_Location_Type_1                 uint8\n",
       "Outlet_Location_Type_2                 uint8\n",
       "Outlet_Size_0                          uint8\n",
       "Outlet_Size_1                          uint8\n",
       "Outlet_Size_2                          uint8\n",
       "Outlet_Type_Grocery Store              uint8\n",
       "Outlet_Type_Supermarket Type1          uint8\n",
       "Outlet_Type_Supermarket Type2          uint8\n",
       "Outlet_Type_Supermarket Type3          uint8\n",
       "Item_Type_Combined_Drinks              uint8\n",
       "Item_Type_Combined_Food                uint8\n",
       "Item_Type_Combined_Non-Consumable      uint8\n",
       "dtype: object"
      ]
     },
     "execution_count": 80,
     "metadata": {},
     "output_type": "execute_result"
    }
   ],
   "source": [
    "# perform one hot encoding for categorical data for prediection\n",
    "cols_to_encode = [\"Item_Fat_Content\", \"Outlet_Location_Type\", \"Outlet_Size\", \"Outlet_Type\", \"Item_Type_Combined\"]\n",
    "data = pd.get_dummies(data, columns=cols_to_encode)\n",
    "data.dtypes"
   ]
  },
  {
   "cell_type": "code",
   "execution_count": 81,
   "id": "2c865ba0-f564-4b39-bcef-edb5793093b0",
   "metadata": {},
   "outputs": [
    {
     "name": "stderr",
     "output_type": "stream",
     "text": [
      "C:\\Users\\sujit\\AppData\\Local\\Temp\\ipykernel_8060\\3593529118.py:9: SettingWithCopyWarning: \n",
      "A value is trying to be set on a copy of a slice from a DataFrame\n",
      "\n",
      "See the caveats in the documentation: https://pandas.pydata.org/pandas-docs/stable/user_guide/indexing.html#returning-a-view-versus-a-copy\n",
      "  train.drop([\"source\"], axis=1, inplace=True)\n",
      "C:\\Users\\sujit\\AppData\\Local\\Temp\\ipykernel_8060\\3593529118.py:10: SettingWithCopyWarning: \n",
      "A value is trying to be set on a copy of a slice from a DataFrame\n",
      "\n",
      "See the caveats in the documentation: https://pandas.pydata.org/pandas-docs/stable/user_guide/indexing.html#returning-a-view-versus-a-copy\n",
      "  test.drop([\"source\"], axis=1, inplace=True)\n"
     ]
    }
   ],
   "source": [
    "# clean columns that are not necessary\n",
    "data.drop([\"Item_Type\", \"Outlet_Establishment_Year\"], axis=1, inplace=True)\n",
    "\n",
    "# split into train and test datasets\n",
    "train = data.loc[data[\"source\"] == \"train\"]\n",
    "test = data.loc[data[\"source\"] == \"test\"]\n",
    "\n",
    "# drop columns individually in each dataset\n",
    "train.drop([\"source\"], axis=1, inplace=True)\n",
    "test.drop([\"source\"], axis=1, inplace=True)\n",
    "\n",
    "# export to csv\n",
    "train.to_csv(\"bigmart_train_trans.csv\", index=False)\n",
    "test.to_csv(\"bigmart_test_trans.csv\", index=False)"
   ]
  },
  {
   "cell_type": "code",
   "execution_count": 31,
   "id": "08b4bddb-2b6e-4c85-9618-77438e9fdb36",
   "metadata": {},
   "outputs": [
    {
     "data": {
      "text/plain": [
       "Item_Identifier                       object\n",
       "Item_Weight                          float64\n",
       "Item_Visibility                      float64\n",
       "Item_MRP                             float64\n",
       "Outlet_Identifier                     object\n",
       "Item_Outlet_Sales                    float64\n",
       "Outlet_Age                             int64\n",
       "Item_Visibility_bins                   int64\n",
       "Item_Fat_Content_0                     int64\n",
       "Item_Fat_Content_1                     int64\n",
       "Outlet_Location_Type_0                 int64\n",
       "Outlet_Location_Type_1                 int64\n",
       "Outlet_Location_Type_2                 int64\n",
       "Outlet_Size_0                          int64\n",
       "Outlet_Size_1                          int64\n",
       "Outlet_Size_2                          int64\n",
       "Outlet_Type_Grocery Store              int64\n",
       "Outlet_Type_Supermarket Type1          int64\n",
       "Outlet_Type_Supermarket Type2          int64\n",
       "Outlet_Type_Supermarket Type3          int64\n",
       "Item_Type_Combined_Drinks              int64\n",
       "Item_Type_Combined_Food                int64\n",
       "Item_Type_Combined_Non-Consumable      int64\n",
       "dtype: object"
      ]
     },
     "execution_count": 31,
     "metadata": {},
     "output_type": "execute_result"
    }
   ],
   "source": [
    "train2 = pd.read_csv(\"bigmart_train_trans.csv\")\n",
    "test2 = pd.read_csv(\"bigmart_test_trans.csv\")\n",
    "train2.dtypes"
   ]
  },
  {
   "cell_type": "code",
   "execution_count": 32,
   "id": "a642bb75-60c7-45cb-8cc9-1d73baf77b27",
   "metadata": {},
   "outputs": [],
   "source": [
    "# remove irrelavant data from train and test dataset\n",
    "x_train = train2.drop([\"Item_Outlet_Sales\", \"Outlet_Identifier\", \"Item_Identifier\"], axis=1)\n",
    "y_train = train2.Item_Outlet_Sales\n",
    "\n",
    "x_test = test2.drop([\"Outlet_Identifier\", \"Item_Identifier\", \"Item_Outlet_Sales\"], axis=1)"
   ]
  },
  {
   "cell_type": "code",
   "execution_count": 33,
   "id": "ec1a5c6b-192c-4c94-ac40-be17a4337531",
   "metadata": {},
   "outputs": [
    {
     "name": "stdout",
     "output_type": "stream",
     "text": [
      "Coefficient - [-1.88002412e+00 -3.96445130e+02  1.58765318e+01 -3.19586844e+01\n",
      "  8.61125222e+00 -1.46995483e+00  1.46995483e+00  1.89141330e+02\n",
      "  4.82636044e+01 -2.37404934e+02  5.40077820e+02 -3.11505169e+02\n",
      " -2.28572650e+02 -1.63474204e+03 -1.26569575e+02 -3.49159801e+02\n",
      "  2.11047141e+03  8.49617720e+00  3.48179624e+01 -4.33141396e+01]\n",
      "Intercept - 937.2230250583782\n"
     ]
    },
    {
     "data": {
      "text/plain": [
       "array([2082.02972074, 3698.89588652, 2956.77600268, ..., 3546.86113703,\n",
       "       3464.79998827, 1254.07446594])"
      ]
     },
     "execution_count": 33,
     "metadata": {},
     "output_type": "execute_result"
    }
   ],
   "source": [
    "# build the linear regression model\n",
    "from sklearn import model_selection\n",
    "from sklearn.linear_model import LinearRegression\n",
    "\n",
    "xtrain, xtest, ytrain, ytest = model_selection.train_test_split(x_train, y_train, test_size=0.3, random_state=42)\n",
    "lm = LinearRegression()\n",
    "lm.fit(xtrain, ytrain)\n",
    "print(\"Coefficient - %s\" % lm.coef_)\n",
    "print(\"Intercept - %s\" % lm.intercept_)\n",
    "\n",
    "predict = lm.predict(xtest)\n",
    "predict"
   ]
  },
  {
   "cell_type": "code",
   "execution_count": 36,
   "id": "230ff28a-1579-4464-811d-380d645f45de",
   "metadata": {},
   "outputs": [
    {
     "name": "stdout",
     "output_type": "stream",
     "text": [
      "Mean squared error 1125.956683443301\n"
     ]
    },
    {
     "data": {
      "text/html": [
       "<div>\n",
       "<style scoped>\n",
       "    .dataframe tbody tr th:only-of-type {\n",
       "        vertical-align: middle;\n",
       "    }\n",
       "\n",
       "    .dataframe tbody tr th {\n",
       "        vertical-align: top;\n",
       "    }\n",
       "\n",
       "    .dataframe thead th {\n",
       "        text-align: right;\n",
       "    }\n",
       "</style>\n",
       "<table border=\"1\" class=\"dataframe\">\n",
       "  <thead>\n",
       "    <tr style=\"text-align: right;\">\n",
       "      <th></th>\n",
       "      <th>Item_Identifier</th>\n",
       "      <th>Outlet_Identifier</th>\n",
       "      <th>Item_Outlet_Sales</th>\n",
       "    </tr>\n",
       "  </thead>\n",
       "  <tbody>\n",
       "    <tr>\n",
       "      <th>0</th>\n",
       "      <td>FDW58</td>\n",
       "      <td>FDW58</td>\n",
       "      <td>1784.890720</td>\n",
       "    </tr>\n",
       "    <tr>\n",
       "      <th>1</th>\n",
       "      <td>FDW14</td>\n",
       "      <td>FDW14</td>\n",
       "      <td>1587.651190</td>\n",
       "    </tr>\n",
       "    <tr>\n",
       "      <th>2</th>\n",
       "      <td>NCN55</td>\n",
       "      <td>NCN55</td>\n",
       "      <td>1849.511907</td>\n",
       "    </tr>\n",
       "    <tr>\n",
       "      <th>3</th>\n",
       "      <td>FDQ58</td>\n",
       "      <td>FDQ58</td>\n",
       "      <td>2670.763566</td>\n",
       "    </tr>\n",
       "    <tr>\n",
       "      <th>4</th>\n",
       "      <td>FDY38</td>\n",
       "      <td>FDY38</td>\n",
       "      <td>5136.737966</td>\n",
       "    </tr>\n",
       "    <tr>\n",
       "      <th>...</th>\n",
       "      <td>...</td>\n",
       "      <td>...</td>\n",
       "      <td>...</td>\n",
       "    </tr>\n",
       "    <tr>\n",
       "      <th>5563</th>\n",
       "      <td>FDB58</td>\n",
       "      <td>FDB58</td>\n",
       "      <td>2354.885255</td>\n",
       "    </tr>\n",
       "    <tr>\n",
       "      <th>5564</th>\n",
       "      <td>FDD47</td>\n",
       "      <td>FDD47</td>\n",
       "      <td>2419.491950</td>\n",
       "    </tr>\n",
       "    <tr>\n",
       "      <th>5565</th>\n",
       "      <td>NCO17</td>\n",
       "      <td>NCO17</td>\n",
       "      <td>1837.192703</td>\n",
       "    </tr>\n",
       "    <tr>\n",
       "      <th>5566</th>\n",
       "      <td>FDJ26</td>\n",
       "      <td>FDJ26</td>\n",
       "      <td>3636.673494</td>\n",
       "    </tr>\n",
       "    <tr>\n",
       "      <th>5567</th>\n",
       "      <td>FDU37</td>\n",
       "      <td>FDU37</td>\n",
       "      <td>1288.479812</td>\n",
       "    </tr>\n",
       "  </tbody>\n",
       "</table>\n",
       "<p>5568 rows × 3 columns</p>\n",
       "</div>"
      ],
      "text/plain": [
       "     Item_Identifier Outlet_Identifier  Item_Outlet_Sales\n",
       "0              FDW58             FDW58        1784.890720\n",
       "1              FDW14             FDW14        1587.651190\n",
       "2              NCN55             NCN55        1849.511907\n",
       "3              FDQ58             FDQ58        2670.763566\n",
       "4              FDY38             FDY38        5136.737966\n",
       "...              ...               ...                ...\n",
       "5563           FDB58             FDB58        2354.885255\n",
       "5564           FDD47             FDD47        2419.491950\n",
       "5565           NCO17             NCO17        1837.192703\n",
       "5566           FDJ26             FDJ26        3636.673494\n",
       "5567           FDU37             FDU37        1288.479812\n",
       "\n",
       "[5568 rows x 3 columns]"
      ]
     },
     "execution_count": 36,
     "metadata": {},
     "output_type": "execute_result"
    }
   ],
   "source": [
    "# find the model RMSE\n",
    "import math\n",
    "print(\"Mean squared error %s\" % math.sqrt(mean_squared_error(ytest, predict)))\n",
    "\n",
    "y_sales_pred = lm.predict(x_test)\n",
    "test_predictions = pd.DataFrame({\"Item_Identifier\": test2[\"Item_Identifier\"], \"Outlet_Identifier\": test2[\"Item_Identifier\"], \"Item_Outlet_Sales\" : y_sales_pred})\n",
    "test_predictions"
   ]
  },
  {
   "cell_type": "code",
   "execution_count": null,
   "id": "cad7dbf0-e2d0-4c48-86d8-de5ff0f8619f",
   "metadata": {},
   "outputs": [],
   "source": []
  }
 ],
 "metadata": {
  "kernelspec": {
   "display_name": "Python 3 (ipykernel)",
   "language": "python",
   "name": "python3"
  },
  "language_info": {
   "codemirror_mode": {
    "name": "ipython",
    "version": 3
   },
   "file_extension": ".py",
   "mimetype": "text/x-python",
   "name": "python",
   "nbconvert_exporter": "python",
   "pygments_lexer": "ipython3",
   "version": "3.8.15"
  }
 },
 "nbformat": 4,
 "nbformat_minor": 5
}
