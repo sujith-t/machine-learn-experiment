{
 "cells": [
  {
   "cell_type": "code",
   "execution_count": 1,
   "id": "26a9a795-c8e6-477f-99eb-ffec3c3b652c",
   "metadata": {},
   "outputs": [],
   "source": [
    "# import library\n",
    "import pandas as pd\n",
    "import numpy as np\n",
    "\n",
    "import matplotlib\n",
    "import matplotlib.pyplot as plt\n",
    "import warnings\n",
    "warnings.filterwarnings(\"ignore\")"
   ]
  },
  {
   "cell_type": "code",
   "execution_count": 2,
   "id": "f95d7912-9222-483f-ba74-ddd30dabb7d7",
   "metadata": {},
   "outputs": [
    {
     "name": "stdout",
     "output_type": "stream",
     "text": [
      "['died' 'euthanized' 'lived']\n"
     ]
    }
   ],
   "source": [
    "animals = pd.read_csv(\"horse.csv\")\n",
    "target = animals[\"outcome\"]\n",
    "animals = animals.drop([\"outcome\"], axis=1)\n",
    "print(target.unique())"
   ]
  },
  {
   "cell_type": "code",
   "execution_count": 3,
   "id": "63ebd814-758d-437c-a1ee-9856d9cbbb11",
   "metadata": {},
   "outputs": [],
   "source": [
    "# make dummies on the categorical variables\n",
    "category_variables = [\"surgery\", \"age\", \"temp_of_extremities\", \"peripheral_pulse\", \"mucous_membrane\", \"capillary_refill_time\", \"pain\", \"peristalsis\", \"abdominal_distention\", \"nasogastric_tube\", \"nasogastric_reflux\", \"rectal_exam_feces\", \"abdomen\", \"abdomo_appearance\", \"surgical_lesion\", \"cp_data\"]\n",
    "\n",
    "for category in category_variables:\n",
    "    c = pd.get_dummies(animals[category])\n",
    "    animals[c.columns] = c\n",
    "    \n",
    "animals = animals.drop(category_variables, axis=1)"
   ]
  },
  {
   "cell_type": "code",
   "execution_count": 4,
   "id": "bba844ab-f2fe-4071-823d-86a9f54c99ef",
   "metadata": {},
   "outputs": [],
   "source": [
    "# making train test split\n",
    "from sklearn.model_selection import train_test_split\n",
    "from sklearn.preprocessing import LabelEncoder\n",
    "\n",
    "x, y = animals.values, target.values\n",
    "\n",
    "label_encoder = LabelEncoder()\n",
    "y = label_encoder.fit_transform(y)\n",
    "\n",
    "x_train, x_test, y_train, y_test = train_test_split(x, y, test_size=0.2, random_state=1)"
   ]
  },
  {
   "cell_type": "code",
   "execution_count": 5,
   "id": "09a0b800-c591-4e43-b907-77c15bd3cd82",
   "metadata": {},
   "outputs": [],
   "source": [
    "# impute data for missing values\n",
    "from sklearn.impute import SimpleImputer\n",
    "import numpy as np\n",
    "\n",
    "imp = SimpleImputer(missing_values=np.nan, strategy=\"most_frequent\")\n",
    "x_train = imp.fit_transform(x_train)\n",
    "x_test = imp.fit_transform(x_test)"
   ]
  },
  {
   "cell_type": "code",
   "execution_count": 12,
   "id": "e1a7f768-8bfc-4524-8436-fd52b9b34e3b",
   "metadata": {},
   "outputs": [
    {
     "name": "stdout",
     "output_type": "stream",
     "text": [
      "Accuracy:  0.43333333333333335\n"
     ]
    }
   ],
   "source": [
    "# test with decision tree classifier\n",
    "from sklearn.tree import DecisionTreeClassifier\n",
    "from sklearn.metrics import accuracy_score\n",
    "\n",
    "dtree_classifier = DecisionTreeClassifier()\n",
    "dtree_classifier.fit(x_train, y_train)\n",
    "\n",
    "y_predict = dtree_classifier.predict(x_test)\n",
    "accuracy = accuracy_score(y_predict, y_test)\n",
    "print(\"Accuracy: \", accuracy)"
   ]
  },
  {
   "cell_type": "code",
   "execution_count": 14,
   "id": "82dbaa91-bb9e-4bed-a8ce-4d83a57897e3",
   "metadata": {},
   "outputs": [
    {
     "name": "stdout",
     "output_type": "stream",
     "text": [
      "Accuracy:  0.8\n"
     ]
    }
   ],
   "source": [
    "# test with random forest classifier\n",
    "from sklearn.ensemble import RandomForestClassifier\n",
    "rforest_classifier = RandomForestClassifier()\n",
    "rforest_classifier.fit(x_train, y_train)\n",
    "\n",
    "y_predict = rforest_classifier.predict(x_test)\n",
    "accuracy = accuracy_score(y_predict, y_test)\n",
    "print(\"Accuracy: \", accuracy)"
   ]
  },
  {
   "cell_type": "code",
   "execution_count": null,
   "id": "5fccb961-9078-43cf-a613-e3685498e213",
   "metadata": {},
   "outputs": [],
   "source": []
  }
 ],
 "metadata": {
  "kernelspec": {
   "display_name": "Python 3 (ipykernel)",
   "language": "python",
   "name": "python3"
  },
  "language_info": {
   "codemirror_mode": {
    "name": "ipython",
    "version": 3
   },
   "file_extension": ".py",
   "mimetype": "text/x-python",
   "name": "python",
   "nbconvert_exporter": "python",
   "pygments_lexer": "ipython3",
   "version": "3.9.15"
  }
 },
 "nbformat": 4,
 "nbformat_minor": 5
}
